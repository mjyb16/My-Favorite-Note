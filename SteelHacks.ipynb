{
 "cells": [
  {
   "cell_type": "markdown",
   "metadata": {},
   "source": [
    "# Importing Packages"
   ]
  },
  {
   "cell_type": "code",
   "execution_count": 1,
   "metadata": {},
   "outputs": [],
   "source": [
    "#import test\n",
    "#exit()\n",
    "\n",
    "#import essentia\n",
    "#import essentia.standard as es\n",
    "import eel\n",
    "import pandas as pd\n",
    "import numpy as np"
   ]
  },
  {
   "cell_type": "code",
   "execution_count": 2,
   "metadata": {},
   "outputs": [],
   "source": [
    "import os"
   ]
  },
  {
   "cell_type": "code",
   "execution_count": 3,
   "metadata": {},
   "outputs": [],
   "source": [
    "#print(dir(essentia.standard))\n",
    "\n",
    "#res, resF = es.MusicExtractor()('song.mp3')\n",
    "\n",
    "#print(res)"
   ]
  },
  {
   "cell_type": "markdown",
   "metadata": {},
   "source": [
    "## Main Methods:"
   ]
  },
  {
   "cell_type": "code",
   "execution_count": 4,
   "metadata": {},
   "outputs": [
    {
     "ename": "SystemExit",
     "evalue": "",
     "output_type": "error",
     "traceback": [
      "An exception has occurred, use %tb to see the full traceback.\n",
      "\u001b[0;31mSystemExit\u001b[0m\n"
     ]
    },
    {
     "name": "stderr",
     "output_type": "stream",
     "text": [
      "/mnt/sda9/anaconda3/lib/python3.7/site-packages/IPython/core/interactiveshell.py:3275: UserWarning: To exit: use 'exit', 'quit', or Ctrl-D.\n",
      "  warn(\"To exit: use 'exit', 'quit', or Ctrl-D.\", stacklevel=1)\n"
     ]
    }
   ],
   "source": [
    "eel.init('web', allowed_extensions = ['.js', '.html'])\n",
    "\n",
    "#@eel.expose\n",
    "#def main_method(artist = \"Art Tatum\"):\n",
    "    #loader = es.MonoLoader(filename='song.mp3')()\n",
    "    #print(len(loader))\n",
    "    #t = es.TonalExtractor()(loader)\n",
    "    #data_munging(t)\n",
    "    #print(t)\n",
    "    \n",
    "    #return(data)\n",
    "#main_method()\n",
    "@eel.expose\n",
    "def main_attempt(name):\n",
    "    df_music = pd.DataFrame()\n",
    "    name = name.replace(\" \", \"\")\n",
    "    name = name.lower()\n",
    "    for paths, dirs, files in os.walk(\"music_partition\"):\n",
    "        for names in files:\n",
    "            df_music_temp = pd.read_csv(os.path.join(paths, names))\n",
    "            df_music = pd.concat([df_music, df_music_temp], sort = True)\n",
    "    key_counts = df_music[\"Key\"].value_counts()\n",
    "    common_key = key_counts.idxmax()\n",
    "    qual_counts = df_music[\"Quality\"].value_counts()\n",
    "    common_qual = qual_counts.idxmax()\n",
    "    bpm_average = df_music[\"BPM\"].mean()\n",
    "    danceability_average = df_music[\"Danceability\"].mean()\n",
    "    stringy = \"The most common key is: <br>\"+ common_key + \"<br>The most common quality is: <br>\" + common_qual + \"<br>The average BPM is <br>\" + str(bpm_average) + \"<br>The average danceability is: <br>\"+ str(danceability_average)\n",
    "    return name + \"<br>\" + stringy\n",
    "eel.start('testing.html')\n"
   ]
  },
  {
   "cell_type": "markdown",
   "metadata": {},
   "source": [
    "## Testing below"
   ]
  }
 ],
 "metadata": {
  "kernelspec": {
   "display_name": "Python 3",
   "language": "python",
   "name": "python3"
  },
  "language_info": {
   "codemirror_mode": {
    "name": "ipython",
    "version": 3
   },
   "file_extension": ".py",
   "mimetype": "text/x-python",
   "name": "python",
   "nbconvert_exporter": "python",
   "pygments_lexer": "ipython3",
   "version": "3.7.1"
  }
 },
 "nbformat": 4,
 "nbformat_minor": 2
}
