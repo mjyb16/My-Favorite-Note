{
 "cells": [
  {
   "cell_type": "markdown",
   "metadata": {},
   "source": [
    "## Getting CSVs"
   ]
  },
  {
   "cell_type": "code",
   "execution_count": 1,
   "metadata": {},
   "outputs": [
    {
     "name": "stdout",
     "output_type": "stream",
     "text": [
      "Copying into directory ./music_partition/raycharles\n",
      "Copying over Low-Society.mp3 at ./music_partition/raycharles/Low-Society.mp3\n",
      "Bb major 102.1540298461914 1.274392008781433\n",
      "Copying over RockHouse.mp3 at ./music_partition/raycharles/RockHouse.mp3\n",
      "B major 124.30774688720703 1.3620080947875977\n",
      "Copying over Sinners-Prayer.mp3 at ./music_partition/raycharles/Sinners-Prayer.mp3\n",
      "A major 123.5117416381836 1.0932378768920898\n",
      "Copying over Ray_Charles_Sweet_Sixteen_Bars.mp3 at ./music_partition/raycharles/Ray_Charles_Sweet_Sixteen_Bars.mp3\n",
      "Eb major 100.39013671875 1.1010687351226807\n",
      "Copying over Whatd-I-Say-Pts1-2.mp3 at ./music_partition/raycharles/Whatd-I-Say-Pts1-2.mp3\n",
      "A minor 89.94742584228516 1.1609388589859009\n",
      "Processing raycharles songs complete!\n"
     ]
    }
   ],
   "source": [
    "import essentia.standard as es\n",
    "import crawl\n",
    "import os\n",
    "\n",
    "artist = 'raycharles'\n",
    "csvName = 'songDat.csv'\n",
    "header = 'Song,Key,Quality,BPM,Danceability\\n'\n",
    "\n",
    "signal = lambda fName: es.MonoLoader(filename = fName)()\n",
    "\n",
    "def tonalTup(s):\n",
    "  #loader = es.MonoLoader(filename = fName)\n",
    "  tup = es.TonalExtractor()(s)\n",
    "  return tup[4], tup[-3], tup[-2] # chord prog, key, quality\n",
    "\n",
    "def bpm(s):\n",
    "\ttup = es.RhythmExtractor()(s)\n",
    "\treturn tup[0]\n",
    "\n",
    "def danceable(s):\n",
    "\treturn es.Danceability()(s)[0]\n",
    "\n",
    "def process(fName, fPath):\n",
    "\tprint('Copying over ' + fName + ' at ' + fPath)\n",
    "\t# not using chords for now\n",
    "\ts = signal(fPath)\n",
    "\tchords, key, quality = tonalTup(s)\n",
    "\tbeat = bpm(s)\n",
    "\tdance = danceable(s)\n",
    "\tprint(key, quality, beat, dance)\n",
    "\t\n",
    "\tdirectory = fPath[:-len(fName)]\n",
    "\tif not os.path.isfile(directory + csvName):\n",
    "\t\twith open(directory + csvName, 'w') as f: f.write(header)\n",
    "\twith open(directory + csvName, 'a+') as f:\n",
    "\t\tf.write(fName + ',' + key + ',' + quality + ',' + str(beat) + ',' + str(dance) + '\\n')\n",
    "\t\n",
    "\tos.system('rm ' + fPath)\n",
    "\n",
    "crawl.makeArtist(artist, './music_partition/', process)\n",
    "\n",
    "print('Processing ' + artist + ' songs complete!')"
   ]
  }
 ],
 "metadata": {
  "kernelspec": {
   "display_name": "Python 3",
   "language": "python",
   "name": "python3"
  },
  "language_info": {
   "codemirror_mode": {
    "name": "ipython",
    "version": 3
   },
   "file_extension": ".py",
   "mimetype": "text/x-python",
   "name": "python",
   "nbconvert_exporter": "python",
   "pygments_lexer": "ipython3",
   "version": "3.7.1"
  }
 },
 "nbformat": 4,
 "nbformat_minor": 2
}
