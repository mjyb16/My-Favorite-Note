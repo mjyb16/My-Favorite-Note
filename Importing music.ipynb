{
 "cells": [
  {
   "cell_type": "code",
   "execution_count": 1,
   "metadata": {},
   "outputs": [],
   "source": [
    "import urllib.request\n",
    "\n",
    "source = 'http://piano-play.com/billevans.html'\n",
    "html = urllib.request.urlopen(source).read()\n",
    "handle = urllib.request.urlopen('http://piano-transcriptions.narod.ru/audio/transc_audio/Barry_Harris_Indiana.mp3')\n",
    "\n",
    "with open('song.mp3', 'wb') as f: f.write(handle.read())"
   ]
  }
 ],
 "metadata": {
  "kernelspec": {
   "display_name": "Python 3",
   "language": "python",
   "name": "python3"
  },
  "language_info": {
   "codemirror_mode": {
    "name": "ipython",
    "version": 3
   },
   "file_extension": ".py",
   "mimetype": "text/x-python",
   "name": "python",
   "nbconvert_exporter": "python",
   "pygments_lexer": "ipython3",
   "version": "3.7.1"
  }
 },
 "nbformat": 4,
 "nbformat_minor": 2
}
